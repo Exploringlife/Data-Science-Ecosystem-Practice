{
 "cells": [
  {
   "cell_type": "markdown",
   "id": "9a1701ef-5d1a-4805-9f9c-12dd26488e31",
   "metadata": {},
   "source": [
    "# Data Science Tools and Ecosystem"
   ]
  },
  {
   "cell_type": "markdown",
   "id": "048c2ad8-2d55-43b8-b026-b87c87adfccc",
   "metadata": {},
   "source": [
    "In this notebook, Data Science Tools and Ecosystem are summarized"
   ]
  },
  {
   "cell_type": "markdown",
   "id": "440542f4-00c5-4da9-98a7-5b133593648e",
   "metadata": {},
   "source": [
    "Objectives:\n",
    "\n",
    "* List popular languages for data dcience\n",
    "* List commonly used libraries for data science\n",
    "* List commonly used open source tools for data sciences\n",
    "* Evaluate a few arithmetic expressions in Python"
   ]
  },
  {
   "cell_type": "markdown",
   "id": "c18582cd-a4ac-44e5-80d9-29f8a51f50b6",
   "metadata": {},
   "source": [
    "Some popular languages that Data Scientists use are:\n",
    "\n",
    "1. R\n",
    "2. Python\n",
    "3. Julia"
   ]
  },
  {
   "cell_type": "markdown",
   "id": "c9e3a148-a65e-4c90-9e45-8a3c3495ccfe",
   "metadata": {},
   "source": [
    "Some of the commonly used libraries by data scientists include:\n",
    "\n",
    "1. Matplotlib\n",
    "2. Pandas\n",
    "3. Numpy\n",
    "4. Scikit-learn\n",
    "5. Seaborn\n",
    "6. Tensorflow"
   ]
  },
  {
   "cell_type": "markdown",
   "id": "cab3f431-b64f-414f-832a-98a3c3269b50",
   "metadata": {},
   "source": [
    "| Data Science Tools |\n",
    "| :- |\n",
    "| Jupyter Lab |\n",
    "| RStudio |\n",
    "| Spyder |"
   ]
  },
  {
   "cell_type": "markdown",
   "id": "044b4dee-9eb0-49b5-8ffc-2ede61df9266",
   "metadata": {},
   "source": [
    "### Below are a few examples of evaluating arithmetic expressions in Python"
   ]
  },
  {
   "cell_type": "code",
   "execution_count": 15,
   "id": "6cde68bd-d471-433f-8728-fda23ff12504",
   "metadata": {},
   "outputs": [
    {
     "data": {
      "text/plain": [
       "17"
      ]
     },
     "execution_count": 15,
     "metadata": {},
     "output_type": "execute_result"
    }
   ],
   "source": [
    "# This is a simple arithmetic expression to multiply then add integers\n",
    "\n",
    "(3*4)+5"
   ]
  },
  {
   "cell_type": "code",
   "execution_count": 17,
   "id": "07c9b68d-18ec-4cc8-bb7d-66cedd54a3d9",
   "metadata": {},
   "outputs": [
    {
     "data": {
      "text/plain": [
       "3.3333333333333335"
      ]
     },
     "execution_count": 17,
     "metadata": {},
     "output_type": "execute_result"
    }
   ],
   "source": [
    "# This will convert 200 minutes into hours by dividing by 60\n",
    "\n",
    "200/60"
   ]
  },
  {
   "cell_type": "markdown",
   "id": "be542517-0beb-4119-a26b-c442ef0754e5",
   "metadata": {},
   "source": [
    "## Author\n",
    "Shane Hardy"
   ]
  },
  {
   "cell_type": "code",
   "execution_count": null,
   "id": "1d08fe1b-8b30-4eec-acd2-167141ce369a",
   "metadata": {},
   "outputs": [],
   "source": []
  }
 ],
 "metadata": {
  "kernelspec": {
   "display_name": "Python 3 (ipykernel)",
   "language": "python",
   "name": "python3"
  },
  "language_info": {
   "codemirror_mode": {
    "name": "ipython",
    "version": 3
   },
   "file_extension": ".py",
   "mimetype": "text/x-python",
   "name": "python",
   "nbconvert_exporter": "python",
   "pygments_lexer": "ipython3",
   "version": "3.12.4"
  }
 },
 "nbformat": 4,
 "nbformat_minor": 5
}
